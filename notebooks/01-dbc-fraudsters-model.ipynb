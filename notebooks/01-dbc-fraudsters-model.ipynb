{
 "cells": [
  {
   "cell_type": "markdown",
   "id": "acbf2c08-e48e-419d-8b11-80a971360ac0",
   "metadata": {},
   "source": [
    "# Fraudsters model"
   ]
  },
  {
   "cell_type": "markdown",
   "id": "232deece-f836-458a-97c4-b4effc718b16",
   "metadata": {},
   "source": [
    "This notebook describes the development of the fraudsters detection model and test its accuracy."
   ]
  },
  {
   "cell_type": "markdown",
   "id": "9ccdeac8-2776-42e7-96e3-0f674d39190d",
   "metadata": {},
   "source": [
    "## Required Libraries"
   ]
  },
  {
   "cell_type": "code",
   "execution_count": 60,
   "id": "d97e3eca-3f47-4c76-8bcf-7484fdc77d86",
   "metadata": {},
   "outputs": [],
   "source": [
    "import pandas as pd\n",
    "import numpy as np\n",
    "from statsmodels.discrete.discrete_model import Logit\n",
    "import statsmodels.api as sm\n",
    "from sklearn import metrics\n",
    "\n",
    "import seaborn as sns\n",
    "import matplotlib.pyplot as plt\n",
    "\n",
    "pd.options.display.max_columns = 99\n",
    "import warnings\n",
    "warnings.simplefilter(\"ignore\")"
   ]
  },
  {
   "cell_type": "markdown",
   "id": "db65a153-f968-418c-9337-b62cf1ede52e",
   "metadata": {},
   "source": [
    "## Data Reading "
   ]
  },
  {
   "cell_type": "code",
   "execution_count": 5,
   "id": "5eaf3cda-dc9e-47e3-bcc4-37aae562056d",
   "metadata": {},
   "outputs": [],
   "source": [
    "# Reading the customers data set processed in the previous notebook\n",
    "df_customers  =  pd.read_csv('../data/df_customers_processed.csv')"
   ]
  },
  {
   "cell_type": "markdown",
   "id": "41c9e5b1-71f8-45bd-af25-45adae904a5d",
   "metadata": {},
   "source": [
    "## Data Analysis"
   ]
  },
  {
   "cell_type": "markdown",
   "id": "a512baf3-eb20-4fa3-8b3c-57eb0426b5e5",
   "metadata": {},
   "source": [
    "The table of customers has the next variable, each one with its interpretation:\n",
    "- ID_USER: unique key per customer.\n",
    "- genero: gender.\n",
    "- monto: average amount that the customer usually makes in each transaction.\n",
    "- numero_tc: number of transactions that the customer makes per month.\n",
    "- hora: Median hour of transactions.\n",
    "- establecimiento: Most frequent type of place where the customer makes his/her transactions.\n",
    "- ciudad: Most common city where the customer makes his/her transactions.\n",
    "- tipo_tc: Most common type of transaction between \"Física\" and \"Virtual\".\n",
    "- linea_tc: Maximum credit line of the customer.\n",
    "- interes_tc: Maximum credit rate of the customer.\n",
    "- status_txn:  Most common status of transactions.\n",
    "- is_prime: If the customer is has a prime membership.\n",
    "- dcto: Average descount.\n",
    "- cashback: Average cashback.\n",
    "- fraude: whether a customer has committed fraud at least once.\n",
    "- model: Most common device model from where the customer perform his/her transactions.\n",
    "- device_score:  Most common device score from where the customer perform his/her transactions. \n",
    "- os: Most common operating system from where the customer perform his/her transactions."
   ]
  },
  {
   "cell_type": "code",
   "execution_count": 6,
   "id": "f8c7ae49-7f85-4f5e-84ac-d91fc009dbdf",
   "metadata": {},
   "outputs": [
    {
     "data": {
      "text/plain": [
       "0.16875"
      ]
     },
     "execution_count": 6,
     "metadata": {},
     "output_type": "execute_result"
    }
   ],
   "source": [
    "# Proportion of customers that have committed fraud at least once\n",
    "df_customers.fraude.sum()/df_customers.shape[0]"
   ]
  },
  {
   "cell_type": "code",
   "execution_count": 7,
   "id": "2991cafc-d63f-4bd3-a043-6b1f7c2d2c7f",
   "metadata": {},
   "outputs": [
    {
     "data": {
      "text/html": [
       "<div>\n",
       "<style scoped>\n",
       "    .dataframe tbody tr th:only-of-type {\n",
       "        vertical-align: middle;\n",
       "    }\n",
       "\n",
       "    .dataframe tbody tr th {\n",
       "        vertical-align: top;\n",
       "    }\n",
       "\n",
       "    .dataframe thead th {\n",
       "        text-align: right;\n",
       "    }\n",
       "</style>\n",
       "<table border=\"1\" class=\"dataframe\">\n",
       "  <thead>\n",
       "    <tr style=\"text-align: right;\">\n",
       "      <th></th>\n",
       "      <th>ID_USER</th>\n",
       "      <th>genero</th>\n",
       "      <th>monto</th>\n",
       "      <th>numero_tc</th>\n",
       "      <th>hora</th>\n",
       "      <th>establecimiento</th>\n",
       "      <th>ciudad</th>\n",
       "      <th>tipo_tc</th>\n",
       "      <th>linea_tc</th>\n",
       "      <th>interes_tc</th>\n",
       "      <th>status_txn</th>\n",
       "      <th>is_prime</th>\n",
       "      <th>dcto</th>\n",
       "      <th>cashback</th>\n",
       "      <th>fraude</th>\n",
       "      <th>model</th>\n",
       "      <th>device_score</th>\n",
       "      <th>os</th>\n",
       "    </tr>\n",
       "  </thead>\n",
       "  <tbody>\n",
       "    <tr>\n",
       "      <th>0</th>\n",
       "      <td>0</td>\n",
       "      <td>F</td>\n",
       "      <td>348.532438</td>\n",
       "      <td>2</td>\n",
       "      <td>13.5</td>\n",
       "      <td>Super</td>\n",
       "      <td>Merida</td>\n",
       "      <td>Física</td>\n",
       "      <td>71000</td>\n",
       "      <td>51</td>\n",
       "      <td>Aceptada</td>\n",
       "      <td>False</td>\n",
       "      <td>30.417282</td>\n",
       "      <td>3.624748</td>\n",
       "      <td>False</td>\n",
       "      <td>2020</td>\n",
       "      <td>3</td>\n",
       "      <td>ANDROID</td>\n",
       "    </tr>\n",
       "    <tr>\n",
       "      <th>1</th>\n",
       "      <td>1</td>\n",
       "      <td>F</td>\n",
       "      <td>488.113724</td>\n",
       "      <td>7</td>\n",
       "      <td>10.0</td>\n",
       "      <td>Otro</td>\n",
       "      <td>Guadalajara</td>\n",
       "      <td>Física</td>\n",
       "      <td>94000</td>\n",
       "      <td>56</td>\n",
       "      <td>Aceptada</td>\n",
       "      <td>False</td>\n",
       "      <td>17.804483</td>\n",
       "      <td>7.004029</td>\n",
       "      <td>False</td>\n",
       "      <td>2020</td>\n",
       "      <td>3</td>\n",
       "      <td>%%</td>\n",
       "    </tr>\n",
       "    <tr>\n",
       "      <th>2</th>\n",
       "      <td>2</td>\n",
       "      <td>F</td>\n",
       "      <td>398.556202</td>\n",
       "      <td>7</td>\n",
       "      <td>10.0</td>\n",
       "      <td>Otro</td>\n",
       "      <td>Toluca</td>\n",
       "      <td>Física</td>\n",
       "      <td>55000</td>\n",
       "      <td>57</td>\n",
       "      <td>Aceptada</td>\n",
       "      <td>False</td>\n",
       "      <td>39.279511</td>\n",
       "      <td>4.092139</td>\n",
       "      <td>False</td>\n",
       "      <td>2020</td>\n",
       "      <td>1</td>\n",
       "      <td>WEB</td>\n",
       "    </tr>\n",
       "    <tr>\n",
       "      <th>3</th>\n",
       "      <td>3</td>\n",
       "      <td>F</td>\n",
       "      <td>238.986074</td>\n",
       "      <td>2</td>\n",
       "      <td>15.5</td>\n",
       "      <td>Super</td>\n",
       "      <td>Toluca</td>\n",
       "      <td>Física</td>\n",
       "      <td>62000</td>\n",
       "      <td>34</td>\n",
       "      <td>Aceptada</td>\n",
       "      <td>False</td>\n",
       "      <td>0.000000</td>\n",
       "      <td>2.389861</td>\n",
       "      <td>False</td>\n",
       "      <td>2020</td>\n",
       "      <td>2</td>\n",
       "      <td>ANDROID</td>\n",
       "    </tr>\n",
       "    <tr>\n",
       "      <th>4</th>\n",
       "      <td>4</td>\n",
       "      <td>--</td>\n",
       "      <td>277.176524</td>\n",
       "      <td>1</td>\n",
       "      <td>6.0</td>\n",
       "      <td>Restaurante</td>\n",
       "      <td>Merida</td>\n",
       "      <td>Física</td>\n",
       "      <td>83000</td>\n",
       "      <td>37</td>\n",
       "      <td>Aceptada</td>\n",
       "      <td>False</td>\n",
       "      <td>55.435305</td>\n",
       "      <td>2.217412</td>\n",
       "      <td>False</td>\n",
       "      <td>2020</td>\n",
       "      <td>2</td>\n",
       "      <td>WEB</td>\n",
       "    </tr>\n",
       "  </tbody>\n",
       "</table>\n",
       "</div>"
      ],
      "text/plain": [
       "   ID_USER genero       monto  numero_tc  hora establecimiento       ciudad  \\\n",
       "0        0      F  348.532438          2  13.5           Super       Merida   \n",
       "1        1      F  488.113724          7  10.0            Otro  Guadalajara   \n",
       "2        2      F  398.556202          7  10.0            Otro       Toluca   \n",
       "3        3      F  238.986074          2  15.5           Super       Toluca   \n",
       "4        4     --  277.176524          1   6.0     Restaurante       Merida   \n",
       "\n",
       "  tipo_tc  linea_tc  interes_tc status_txn  is_prime       dcto  cashback  \\\n",
       "0  Física     71000          51   Aceptada     False  30.417282  3.624748   \n",
       "1  Física     94000          56   Aceptada     False  17.804483  7.004029   \n",
       "2  Física     55000          57   Aceptada     False  39.279511  4.092139   \n",
       "3  Física     62000          34   Aceptada     False   0.000000  2.389861   \n",
       "4  Física     83000          37   Aceptada     False  55.435305  2.217412   \n",
       "\n",
       "   fraude  model  device_score       os  \n",
       "0   False   2020             3  ANDROID  \n",
       "1   False   2020             3       %%  \n",
       "2   False   2020             1      WEB  \n",
       "3   False   2020             2  ANDROID  \n",
       "4   False   2020             2      WEB  "
      ]
     },
     "execution_count": 7,
     "metadata": {},
     "output_type": "execute_result"
    }
   ],
   "source": [
    "# Table of customers\n",
    "df_customers.head()"
   ]
  },
  {
   "cell_type": "markdown",
   "id": "91ac6af7-99c3-4c2c-8321-84b2e2b4c450",
   "metadata": {},
   "source": [
    "## Model fit "
   ]
  },
  {
   "cell_type": "markdown",
   "id": "8dde2825-b763-4446-9377-cf31f613d929",
   "metadata": {},
   "source": [
    "The chosen model to detect a fraudster was a logistic regression. We trained the regression with all the variables of the customers table as the exogenous variables, except for *ID_USER* and *fraude*. The non numeric variables were transformed to binary variables, for example *genero* became:\n",
    "- genero_M: 1 if genero is M, 0 otherwise\n",
    "- genero_F: 1 if genero is F, 0 otherwise\n",
    "- genero_--: 1 if genero is --, 0 otherwise\n",
    "\n",
    "Our target variable was *fraude*, so the model estimates the probability of a customer to commit at least one fraud given the described features."
   ]
  },
  {
   "cell_type": "markdown",
   "id": "5201cb55-a546-44c6-8e0a-6c47aa0cee43",
   "metadata": {},
   "source": [
    "In order to test the model performance we divided the customers table in 2 data sets:\n",
    "- training set: 80% of the data selected randomly keeping a proportion of fraudsters similar to the complete data set (~17%).\n",
    "- testing set: the other 20% of the data."
   ]
  },
  {
   "cell_type": "code",
   "execution_count": 24,
   "id": "ba1d72c1-f0b0-468a-9089-1a13e32c31b5",
   "metadata": {},
   "outputs": [
    {
     "data": {
      "text/html": [
       "<div>\n",
       "<style scoped>\n",
       "    .dataframe tbody tr th:only-of-type {\n",
       "        vertical-align: middle;\n",
       "    }\n",
       "\n",
       "    .dataframe tbody tr th {\n",
       "        vertical-align: top;\n",
       "    }\n",
       "\n",
       "    .dataframe thead th {\n",
       "        text-align: right;\n",
       "    }\n",
       "</style>\n",
       "<table border=\"1\" class=\"dataframe\">\n",
       "  <thead>\n",
       "    <tr style=\"text-align: right;\">\n",
       "      <th></th>\n",
       "      <th>ID_USER</th>\n",
       "      <th>genero</th>\n",
       "      <th>monto</th>\n",
       "      <th>numero_tc</th>\n",
       "      <th>hora</th>\n",
       "      <th>establecimiento</th>\n",
       "      <th>ciudad</th>\n",
       "      <th>tipo_tc</th>\n",
       "      <th>linea_tc</th>\n",
       "      <th>interes_tc</th>\n",
       "      <th>status_txn</th>\n",
       "      <th>is_prime</th>\n",
       "      <th>dcto</th>\n",
       "      <th>cashback</th>\n",
       "      <th>fraude</th>\n",
       "      <th>model</th>\n",
       "      <th>device_score</th>\n",
       "      <th>os</th>\n",
       "    </tr>\n",
       "  </thead>\n",
       "  <tbody>\n",
       "    <tr>\n",
       "      <th>541</th>\n",
       "      <td>541</td>\n",
       "      <td>M</td>\n",
       "      <td>452.396618</td>\n",
       "      <td>9</td>\n",
       "      <td>7.0</td>\n",
       "      <td>Super</td>\n",
       "      <td>Otro</td>\n",
       "      <td>Física</td>\n",
       "      <td>31000</td>\n",
       "      <td>45</td>\n",
       "      <td>Aceptada</td>\n",
       "      <td>False</td>\n",
       "      <td>18.820136</td>\n",
       "      <td>5.324935</td>\n",
       "      <td>True</td>\n",
       "      <td>2020</td>\n",
       "      <td>3</td>\n",
       "      <td>ANDROID</td>\n",
       "    </tr>\n",
       "    <tr>\n",
       "      <th>835</th>\n",
       "      <td>835</td>\n",
       "      <td>F</td>\n",
       "      <td>414.783337</td>\n",
       "      <td>14</td>\n",
       "      <td>11.5</td>\n",
       "      <td>Restaurante</td>\n",
       "      <td>Monterrey</td>\n",
       "      <td>Física</td>\n",
       "      <td>26000</td>\n",
       "      <td>55</td>\n",
       "      <td>Aceptada</td>\n",
       "      <td>False</td>\n",
       "      <td>3.860165</td>\n",
       "      <td>4.581367</td>\n",
       "      <td>True</td>\n",
       "      <td>2020</td>\n",
       "      <td>5</td>\n",
       "      <td>.</td>\n",
       "    </tr>\n",
       "    <tr>\n",
       "      <th>875</th>\n",
       "      <td>875</td>\n",
       "      <td>M</td>\n",
       "      <td>317.486782</td>\n",
       "      <td>11</td>\n",
       "      <td>10.0</td>\n",
       "      <td>Otro</td>\n",
       "      <td>Monterrey</td>\n",
       "      <td>Física</td>\n",
       "      <td>81000</td>\n",
       "      <td>61</td>\n",
       "      <td>Aceptada</td>\n",
       "      <td>False</td>\n",
       "      <td>4.432763</td>\n",
       "      <td>4.765859</td>\n",
       "      <td>True</td>\n",
       "      <td>2020</td>\n",
       "      <td>2</td>\n",
       "      <td>ANDROID</td>\n",
       "    </tr>\n",
       "    <tr>\n",
       "      <th>2647</th>\n",
       "      <td>2647</td>\n",
       "      <td>M</td>\n",
       "      <td>476.253787</td>\n",
       "      <td>33</td>\n",
       "      <td>11.0</td>\n",
       "      <td>Otro</td>\n",
       "      <td>Otro</td>\n",
       "      <td>Física</td>\n",
       "      <td>88000</td>\n",
       "      <td>61</td>\n",
       "      <td>Aceptada</td>\n",
       "      <td>True</td>\n",
       "      <td>14.537388</td>\n",
       "      <td>5.997181</td>\n",
       "      <td>True</td>\n",
       "      <td>2020</td>\n",
       "      <td>3</td>\n",
       "      <td>.</td>\n",
       "    </tr>\n",
       "    <tr>\n",
       "      <th>2610</th>\n",
       "      <td>2610</td>\n",
       "      <td>M</td>\n",
       "      <td>542.870535</td>\n",
       "      <td>9</td>\n",
       "      <td>7.0</td>\n",
       "      <td>Super</td>\n",
       "      <td>Toluca</td>\n",
       "      <td>Física</td>\n",
       "      <td>48000</td>\n",
       "      <td>33</td>\n",
       "      <td>Aceptada</td>\n",
       "      <td>False</td>\n",
       "      <td>11.128258</td>\n",
       "      <td>6.531495</td>\n",
       "      <td>True</td>\n",
       "      <td>2020</td>\n",
       "      <td>3</td>\n",
       "      <td>ANDROID</td>\n",
       "    </tr>\n",
       "  </tbody>\n",
       "</table>\n",
       "</div>"
      ],
      "text/plain": [
       "      ID_USER genero       monto  numero_tc  hora establecimiento     ciudad  \\\n",
       "541       541      M  452.396618          9   7.0           Super       Otro   \n",
       "835       835      F  414.783337         14  11.5     Restaurante  Monterrey   \n",
       "875       875      M  317.486782         11  10.0            Otro  Monterrey   \n",
       "2647     2647      M  476.253787         33  11.0            Otro       Otro   \n",
       "2610     2610      M  542.870535          9   7.0           Super     Toluca   \n",
       "\n",
       "     tipo_tc  linea_tc  interes_tc status_txn  is_prime       dcto  cashback  \\\n",
       "541   Física     31000          45   Aceptada     False  18.820136  5.324935   \n",
       "835   Física     26000          55   Aceptada     False   3.860165  4.581367   \n",
       "875   Física     81000          61   Aceptada     False   4.432763  4.765859   \n",
       "2647  Física     88000          61   Aceptada      True  14.537388  5.997181   \n",
       "2610  Física     48000          33   Aceptada     False  11.128258  6.531495   \n",
       "\n",
       "      fraude  model  device_score       os  \n",
       "541     True   2020             3  ANDROID  \n",
       "835     True   2020             5        .  \n",
       "875     True   2020             2  ANDROID  \n",
       "2647    True   2020             3        .  \n",
       "2610    True   2020             3  ANDROID  "
      ]
     },
     "execution_count": 24,
     "metadata": {},
     "output_type": "execute_result"
    }
   ],
   "source": [
    "df_train_fraud.head()"
   ]
  },
  {
   "cell_type": "code",
   "execution_count": 31,
   "id": "117b4426-a8ab-4cc5-a6fd-c1c0f5f28137",
   "metadata": {},
   "outputs": [],
   "source": [
    "# Creating the trainig set\n",
    "df_train_fraud = df_customers.query('fraude == True').sample(frac=0.8, random_state=1)\n",
    "df_train_no_fraud = df_customers.query('fraude == False').sample(frac=0.8, random_state=1)\n",
    "df_train = pd.concat([df_train_fraud,df_train_no_fraud]).drop(columns='ID_USER')"
   ]
  },
  {
   "cell_type": "code",
   "execution_count": 32,
   "id": "f6f3c331-1eec-4bfd-91a4-2b2a89e1a14d",
   "metadata": {},
   "outputs": [
    {
     "data": {
      "text/plain": [
       "0.16875"
      ]
     },
     "execution_count": 32,
     "metadata": {},
     "output_type": "execute_result"
    }
   ],
   "source": [
    "# Proportion of customers that have committed fraud at least once in the training set\n",
    "df_train.fraude.sum()/df_train.shape[0]"
   ]
  },
  {
   "cell_type": "code",
   "execution_count": 33,
   "id": "43d74b92-140d-4150-b2f0-f9e8a40c3246",
   "metadata": {},
   "outputs": [],
   "source": [
    "# Creating the testing set\n",
    "df_test = df_customers.drop(df_train.index).drop(columns='ID_USER')"
   ]
  },
  {
   "cell_type": "code",
   "execution_count": 34,
   "id": "71b7afaf-4cf1-4f5d-892c-6491f8efc668",
   "metadata": {},
   "outputs": [
    {
     "data": {
      "text/plain": [
       "0.16875"
      ]
     },
     "execution_count": 34,
     "metadata": {},
     "output_type": "execute_result"
    }
   ],
   "source": [
    "# Proportion of customers that have committed fraud at least once in the testing set\n",
    "df_test.fraude.sum()/df_test.shape[0]"
   ]
  },
  {
   "cell_type": "code",
   "execution_count": 37,
   "id": "276972f8-7392-418b-9886-2dd6c0a3e81a",
   "metadata": {},
   "outputs": [
    {
     "name": "stdout",
     "output_type": "stream",
     "text": [
      "Warning: Maximum number of iterations has been exceeded.\n",
      "         Current function value: 0.401989\n",
      "         Iterations: 35\n"
     ]
    }
   ],
   "source": [
    "# Fitting the model with the training set\n",
    "df_train_exog = pd.get_dummies(df_train.drop(columns='fraude'),\n",
    "                          columns = list(set(df_train.drop(columns='fraude').columns)-set(['monto','numero_tc','hora','linea_tc','interes_tc','dcto','cashback','device_score','is_prime'])))\n",
    "model = Logit(endog = df_train.fraude*1, exog = df_train_exog.astype('float'), missing = 'none')\n",
    "model_fit = model.fit()"
   ]
  },
  {
   "cell_type": "markdown",
   "id": "2f4686ed-ae99-4360-aac0-f247d585b30e",
   "metadata": {},
   "source": [
    "## Model Performance"
   ]
  },
  {
   "cell_type": "markdown",
   "id": "9ccab7c8-731e-4a2a-b11e-dc4f6b82bc35",
   "metadata": {},
   "source": [
    "After observed the ROC curve of true postive and false positives rates, we decided to fix the threshold to detect a fraudster in 20% of propability. After this threshold the rate of false positives keeps near 15% and the true postive rate is above 50%. Our model achives the following metrics:\n",
    "- Accuracy rate: ~80%, probability of identify rightly a customer between fraudster and no fraudster.\n",
    "- True positives rate: ~54%, probability of identify a fraudster given the customer actually is a fraudster.\n",
    "- False postivies rate: ~15%, probability of identify a customer as fraudster and be mistaken."
   ]
  },
  {
   "cell_type": "code",
   "execution_count": 46,
   "id": "a0d6f0b8-bf8f-48e5-bf67-6b35734ff02a",
   "metadata": {},
   "outputs": [],
   "source": [
    "# Evaluating the model with the testing set\n",
    "df_test_exog = pd.get_dummies(df_test.drop(columns='fraude'),\n",
    "                          columns = list(set(df_test.drop(columns='fraude').columns)-set(['monto','numero_tc','hora','linea_tc','interes_tc','dcto','cashback','device_score','is_prime'])))\n",
    "df_logit_predict = df_test.copy()\n",
    "df_logit_predict['fraude_prob'] = model_fit.predict(df_test_exog.astype(float))"
   ]
  },
  {
   "cell_type": "code",
   "execution_count": 54,
   "id": "fe299f5b-bf62-4f5b-9cb6-a96e70dfd8a9",
   "metadata": {},
   "outputs": [],
   "source": [
    "df_key_rates = pd.DataFrame(metrics.roc_curve(df_logit_predict['fraude'],df_logit_predict['fraude_prob'])).T\n",
    "df_key_rates.columns = ['%_false_positive','%_true_positive','threshold']"
   ]
  },
  {
   "cell_type": "code",
   "execution_count": 65,
   "id": "d96557dd-016e-49aa-971c-145a3543467b",
   "metadata": {},
   "outputs": [
    {
     "data": {
      "image/png": "[encoded data removed]",
      "text/plain": [
       "<Figure size 1440x576 with 1 Axes>"
      ]
     },
     "metadata": {
      "needs_background": "light"
     },
     "output_type": "display_data"
    }
   ],
   "source": [
    "# Ploting the ROC curve\n",
    "df_key_rates_plot = df_key_rates.melt(id_vars = 'threshold')\n",
    "plt.figure(figsize=(20,8))\n",
    "sns.lineplot(data=df_key_rates_plot,x='threshold',y='value',hue='variable')\n",
    "plt.xlim(0,1)\n",
    "plt.axvline(x=0.2,color = 'k')\n",
    "plt.show()"
   ]
  },
  {
   "cell_type": "code",
   "execution_count": 69,
   "id": "898732b1-f1ab-4901-b12f-f9518f90aa57",
   "metadata": {},
   "outputs": [
    {
     "data": {
      "text/plain": [
       "%_false_positive    0.154028\n",
       "%_true_positive     0.535450\n",
       "threshold           0.197316\n",
       "dtype: float64"
      ]
     },
     "execution_count": 69,
     "metadata": {},
     "output_type": "execute_result"
    }
   ],
   "source": [
    "# False postive and True positive rates for our model\n",
    "df_key_rates.query('threshold >= 0.19 & threshold <= 0.21').mean()"
   ]
  },
  {
   "cell_type": "code",
   "execution_count": 71,
   "id": "4c63d979-831f-4b62-bc58-fb66b74b947e",
   "metadata": {},
   "outputs": [
    {
     "data": {
      "text/plain": [
       "0.79875"
      ]
     },
     "execution_count": 71,
     "metadata": {},
     "output_type": "execute_result"
    }
   ],
   "source": [
    "metrics.accuracy_score(df_logit_predict['fraude'],df_logit_predict['fraude_prob']>0.2)"
   ]
  },
  {
   "cell_type": "markdown",
   "id": "94c0795e-f99a-46d2-9cd1-35867fb3c935",
   "metadata": {},
   "source": [
    "## Model for production "
   ]
  },
  {
   "cell_type": "markdown",
   "id": "ce6fa6dd-af14-4cce-ae9c-55c1b903eee9",
   "metadata": {},
   "source": [
    "Our final model has the same structure but is fitted with all the data."
   ]
  },
  {
   "cell_type": "markdown",
   "id": "4a62e495-43c4-4e83-ac42-aeeb56e8a699",
   "metadata": {},
   "source": [
    "For this model and given a significance level of 10%, the only significant variables are *monto*, *numero_tc* and *dcto*. So we can infer that knowing the frequency of transactions of a customer, its amounts and descounts we could detect if he or she is a fraudster."
   ]
  },
  {
   "cell_type": "markdown",
   "id": "f440026b-d444-487b-ba3c-42ec3ba17797",
   "metadata": {},
   "source": [
    "On the other hand, by comparing the absolute value of the coefficients of the binary variables, the most relevant non numeric variables are:\n",
    "1. Most common type of transaction between \"Física\" and \"Virtual\".\n",
    "2. Most frequent type of place where the customer makes his/her transactions.\n",
    "3. Most common status of transactions.\n",
    "\n",
    "We omit variable *model* because all the records of our data have the same value, so this variable is behaving as an intercept."
   ]
  },
  {
   "cell_type": "markdown",
   "id": "37767573-83f8-43c2-ada6-97bc51519995",
   "metadata": {},
   "source": [
    "In conclusion, having the data about the transactions of a customer we should be able of detecting if he or she is a potential fraudster regardless of personal features."
   ]
  },
  {
   "cell_type": "code",
   "execution_count": 73,
   "id": "1ae068f5-ac9d-4c36-8f77-8aafdf8adb21",
   "metadata": {},
   "outputs": [
    {
     "name": "stdout",
     "output_type": "stream",
     "text": [
      "Optimization terminated successfully.\n",
      "         Current function value: 0.398782\n",
      "         Iterations 13\n"
     ]
    }
   ],
   "source": [
    "df_train = df_customers.drop(columns=['ID_USER','fraude'])\n",
    "df_train = pd.get_dummies(df_train,\n",
    "                          columns = list(set(df_train.columns)-set(['monto','numero_tc','hora','linea_tc','interes_tc','dcto','cashback','device_score','is_prime'])))\n",
    "model = Logit(endog = df_customers.fraude*1, exog = df_train.astype('float'), missing = 'none')\n",
    "model_fit = model.fit()"
   ]
  },
  {
   "cell_type": "code",
   "execution_count": 74,
   "id": "67aec8c6-8883-4bf3-8eb6-890321bddf57",
   "metadata": {},
   "outputs": [
    {
     "data": {
      "text/html": [
       "<table class=\"simpletable\">\n",
       "<caption>Logit Regression Results</caption>\n",
       "<tr>\n",
       "  <th>Dep. Variable:</th>        <td>fraude</td>      <th>  No. Observations:  </th>  <td>  4000</td>  \n",
       "</tr>\n",
       "<tr>\n",
       "  <th>Model:</th>                 <td>Logit</td>      <th>  Df Residuals:      </th>  <td>  3973</td>  \n",
       "</tr>\n",
       "<tr>\n",
       "  <th>Method:</th>                 <td>MLE</td>       <th>  Df Model:          </th>  <td>    26</td>  \n",
       "</tr>\n",
       "<tr>\n",
       "  <th>Date:</th>            <td>Fri, 13 Aug 2021</td> <th>  Pseudo R-squ.:     </th>  <td>0.1214</td>  \n",
       "</tr>\n",
       "<tr>\n",
       "  <th>Time:</th>                <td>18:40:05</td>     <th>  Log-Likelihood:    </th> <td> -1595.1</td> \n",
       "</tr>\n",
       "<tr>\n",
       "  <th>converged:</th>             <td>True</td>       <th>  LL-Null:           </th> <td> -1815.6</td> \n",
       "</tr>\n",
       "<tr>\n",
       "  <th>Covariance Type:</th>     <td>nonrobust</td>    <th>  LLR p-value:       </th> <td>5.208e-77</td>\n",
       "</tr>\n",
       "</table>\n",
       "<table class=\"simpletable\">\n",
       "<tr>\n",
       "               <td></td>                  <th>coef</th>     <th>std err</th>      <th>z</th>      <th>P>|z|</th>  <th>[0.025</th>    <th>0.975]</th>  \n",
       "</tr>\n",
       "<tr>\n",
       "  <th>monto</th>                       <td>   -0.0012</td> <td>    0.001</td> <td>   -1.649</td> <td> 0.099</td> <td>   -0.003</td> <td>    0.000</td>\n",
       "</tr>\n",
       "<tr>\n",
       "  <th>numero_tc</th>                   <td>    0.1206</td> <td>    0.007</td> <td>   16.356</td> <td> 0.000</td> <td>    0.106</td> <td>    0.135</td>\n",
       "</tr>\n",
       "<tr>\n",
       "  <th>hora</th>                        <td>    0.0008</td> <td>    0.011</td> <td>    0.067</td> <td> 0.947</td> <td>   -0.022</td> <td>    0.023</td>\n",
       "</tr>\n",
       "<tr>\n",
       "  <th>linea_tc</th>                    <td>-3.192e-06</td> <td>  2.1e-06</td> <td>   -1.522</td> <td> 0.128</td> <td> -7.3e-06</td> <td>  9.2e-07</td>\n",
       "</tr>\n",
       "<tr>\n",
       "  <th>interes_tc</th>                  <td>   -0.0005</td> <td>    0.005</td> <td>   -0.105</td> <td> 0.916</td> <td>   -0.010</td> <td>    0.009</td>\n",
       "</tr>\n",
       "<tr>\n",
       "  <th>is_prime</th>                    <td>   -0.1708</td> <td>    0.138</td> <td>   -1.239</td> <td> 0.215</td> <td>   -0.441</td> <td>    0.099</td>\n",
       "</tr>\n",
       "<tr>\n",
       "  <th>dcto</th>                        <td>    0.0075</td> <td>    0.003</td> <td>    2.694</td> <td> 0.007</td> <td>    0.002</td> <td>    0.013</td>\n",
       "</tr>\n",
       "<tr>\n",
       "  <th>cashback</th>                    <td>    0.0710</td> <td>    0.048</td> <td>    1.492</td> <td> 0.136</td> <td>   -0.022</td> <td>    0.164</td>\n",
       "</tr>\n",
       "<tr>\n",
       "  <th>device_score</th>                <td>    0.0089</td> <td>    0.032</td> <td>    0.279</td> <td> 0.780</td> <td>   -0.054</td> <td>    0.071</td>\n",
       "</tr>\n",
       "<tr>\n",
       "  <th>os_%%</th>                       <td>   -0.2718</td> <td> 1.37e+07</td> <td>-1.98e-08</td> <td> 1.000</td> <td>-2.69e+07</td> <td> 2.69e+07</td>\n",
       "</tr>\n",
       "<tr>\n",
       "  <th>os_.</th>                        <td>   -0.1474</td> <td> 9.86e+06</td> <td>-1.49e-08</td> <td> 1.000</td> <td>-1.93e+07</td> <td> 1.93e+07</td>\n",
       "</tr>\n",
       "<tr>\n",
       "  <th>os_ANDROID</th>                  <td>   -0.2462</td> <td> 1.43e+07</td> <td>-1.72e-08</td> <td> 1.000</td> <td> -2.8e+07</td> <td>  2.8e+07</td>\n",
       "</tr>\n",
       "<tr>\n",
       "  <th>os_WEB</th>                      <td>   -0.3066</td> <td> 1.21e+07</td> <td>-2.52e-08</td> <td> 1.000</td> <td>-2.38e+07</td> <td> 2.38e+07</td>\n",
       "</tr>\n",
       "<tr>\n",
       "  <th>tipo_tc_Física</th>              <td>   -0.3084</td> <td> 1.57e+07</td> <td>-1.96e-08</td> <td> 1.000</td> <td>-3.08e+07</td> <td> 3.08e+07</td>\n",
       "</tr>\n",
       "<tr>\n",
       "  <th>tipo_tc_Virtual</th>             <td>   -0.6636</td> <td> 1.47e+07</td> <td>-4.51e-08</td> <td> 1.000</td> <td>-2.88e+07</td> <td> 2.88e+07</td>\n",
       "</tr>\n",
       "<tr>\n",
       "  <th>status_txn_Aceptada</th>         <td>   -0.1048</td> <td> 1.16e+07</td> <td>-9.05e-09</td> <td> 1.000</td> <td>-2.27e+07</td> <td> 2.27e+07</td>\n",
       "</tr>\n",
       "<tr>\n",
       "  <th>status_txn_En proceso</th>       <td>   -0.3305</td> <td> 1.19e+07</td> <td>-2.77e-08</td> <td> 1.000</td> <td>-2.34e+07</td> <td> 2.34e+07</td>\n",
       "</tr>\n",
       "<tr>\n",
       "  <th>status_txn_Rechazada</th>        <td>   -0.5368</td> <td> 1.23e+07</td> <td>-4.36e-08</td> <td> 1.000</td> <td>-2.41e+07</td> <td> 2.41e+07</td>\n",
       "</tr>\n",
       "<tr>\n",
       "  <th>establecimiento_Abarrotes</th>   <td>   -0.1241</td> <td>      nan</td> <td>      nan</td> <td>   nan</td> <td>      nan</td> <td>      nan</td>\n",
       "</tr>\n",
       "<tr>\n",
       "  <th>establecimiento_Farmacia</th>    <td>   -0.5570</td> <td>      nan</td> <td>      nan</td> <td>   nan</td> <td>      nan</td> <td>      nan</td>\n",
       "</tr>\n",
       "<tr>\n",
       "  <th>establecimiento_MPago</th>       <td>   -0.0634</td> <td>      nan</td> <td>      nan</td> <td>   nan</td> <td>      nan</td> <td>      nan</td>\n",
       "</tr>\n",
       "<tr>\n",
       "  <th>establecimiento_Otro</th>        <td>   -0.1207</td> <td>      nan</td> <td>      nan</td> <td>   nan</td> <td>      nan</td> <td>      nan</td>\n",
       "</tr>\n",
       "<tr>\n",
       "  <th>establecimiento_Restaurante</th> <td>   -0.1302</td> <td>      nan</td> <td>      nan</td> <td>   nan</td> <td>      nan</td> <td>      nan</td>\n",
       "</tr>\n",
       "<tr>\n",
       "  <th>establecimiento_Super</th>       <td>    0.0234</td> <td>      nan</td> <td>      nan</td> <td>   nan</td> <td>      nan</td> <td>      nan</td>\n",
       "</tr>\n",
       "<tr>\n",
       "  <th>genero_--</th>                   <td>   -0.2776</td> <td> 2.43e+07</td> <td>-1.14e-08</td> <td> 1.000</td> <td>-4.76e+07</td> <td> 4.76e+07</td>\n",
       "</tr>\n",
       "<tr>\n",
       "  <th>genero_F</th>                    <td>   -0.3180</td> <td> 2.43e+07</td> <td>-1.31e-08</td> <td> 1.000</td> <td>-4.76e+07</td> <td> 4.76e+07</td>\n",
       "</tr>\n",
       "<tr>\n",
       "  <th>genero_M</th>                    <td>   -0.3764</td> <td> 2.46e+07</td> <td>-1.53e-08</td> <td> 1.000</td> <td>-4.83e+07</td> <td> 4.83e+07</td>\n",
       "</tr>\n",
       "<tr>\n",
       "  <th>model_2020</th>                  <td>   -0.9720</td> <td> 2.22e+07</td> <td>-4.37e-08</td> <td> 1.000</td> <td>-4.36e+07</td> <td> 4.36e+07</td>\n",
       "</tr>\n",
       "<tr>\n",
       "  <th>ciudad_Guadalajara</th>          <td>   -0.2154</td> <td>      nan</td> <td>      nan</td> <td>   nan</td> <td>      nan</td> <td>      nan</td>\n",
       "</tr>\n",
       "<tr>\n",
       "  <th>ciudad_Merida</th>               <td>   -0.1164</td> <td>      nan</td> <td>      nan</td> <td>   nan</td> <td>      nan</td> <td>      nan</td>\n",
       "</tr>\n",
       "<tr>\n",
       "  <th>ciudad_Monterrey</th>            <td>   -0.3620</td> <td>      nan</td> <td>      nan</td> <td>   nan</td> <td>      nan</td> <td>      nan</td>\n",
       "</tr>\n",
       "<tr>\n",
       "  <th>ciudad_Otro</th>                 <td>   -0.1389</td> <td>      nan</td> <td>      nan</td> <td>   nan</td> <td>      nan</td> <td>      nan</td>\n",
       "</tr>\n",
       "<tr>\n",
       "  <th>ciudad_Toluca</th>               <td>   -0.1393</td> <td>      nan</td> <td>      nan</td> <td>   nan</td> <td>      nan</td> <td>      nan</td>\n",
       "</tr>\n",
       "</table>"
      ],
      "text/plain": [
       "<class 'statsmodels.iolib.summary.Summary'>\n",
       "\"\"\"\n",
       "                           Logit Regression Results                           \n",
       "==============================================================================\n",
       "Dep. Variable:                 fraude   No. Observations:                 4000\n",
       "Model:                          Logit   Df Residuals:                     3973\n",
       "Method:                           MLE   Df Model:                           26\n",
       "Date:                Fri, 13 Aug 2021   Pseudo R-squ.:                  0.1214\n",
       "Time:                        18:40:05   Log-Likelihood:                -1595.1\n",
       "converged:                       True   LL-Null:                       -1815.6\n",
       "Covariance Type:            nonrobust   LLR p-value:                 5.208e-77\n",
       "===============================================================================================\n",
       "                                  coef    std err          z      P>|z|      [0.025      0.975]\n",
       "-----------------------------------------------------------------------------------------------\n",
       "monto                          -0.0012      0.001     -1.649      0.099      -0.003       0.000\n",
       "numero_tc                       0.1206      0.007     16.356      0.000       0.106       0.135\n",
       "hora                            0.0008      0.011      0.067      0.947      -0.022       0.023\n",
       "linea_tc                    -3.192e-06    2.1e-06     -1.522      0.128    -7.3e-06     9.2e-07\n",
       "interes_tc                     -0.0005      0.005     -0.105      0.916      -0.010       0.009\n",
       "is_prime                       -0.1708      0.138     -1.239      0.215      -0.441       0.099\n",
       "dcto                            0.0075      0.003      2.694      0.007       0.002       0.013\n",
       "cashback                        0.0710      0.048      1.492      0.136      -0.022       0.164\n",
       "device_score                    0.0089      0.032      0.279      0.780      -0.054       0.071\n",
       "os_%%                          -0.2718   1.37e+07  -1.98e-08      1.000   -2.69e+07    2.69e+07\n",
       "os_.                           -0.1474   9.86e+06  -1.49e-08      1.000   -1.93e+07    1.93e+07\n",
       "os_ANDROID                     -0.2462   1.43e+07  -1.72e-08      1.000    -2.8e+07     2.8e+07\n",
       "os_WEB                         -0.3066   1.21e+07  -2.52e-08      1.000   -2.38e+07    2.38e+07\n",
       "tipo_tc_Física                 -0.3084   1.57e+07  -1.96e-08      1.000   -3.08e+07    3.08e+07\n",
       "tipo_tc_Virtual                -0.6636   1.47e+07  -4.51e-08      1.000   -2.88e+07    2.88e+07\n",
       "status_txn_Aceptada            -0.1048   1.16e+07  -9.05e-09      1.000   -2.27e+07    2.27e+07\n",
       "status_txn_En proceso          -0.3305   1.19e+07  -2.77e-08      1.000   -2.34e+07    2.34e+07\n",
       "status_txn_Rechazada           -0.5368   1.23e+07  -4.36e-08      1.000   -2.41e+07    2.41e+07\n",
       "establecimiento_Abarrotes      -0.1241        nan        nan        nan         nan         nan\n",
       "establecimiento_Farmacia       -0.5570        nan        nan        nan         nan         nan\n",
       "establecimiento_MPago          -0.0634        nan        nan        nan         nan         nan\n",
       "establecimiento_Otro           -0.1207        nan        nan        nan         nan         nan\n",
       "establecimiento_Restaurante    -0.1302        nan        nan        nan         nan         nan\n",
       "establecimiento_Super           0.0234        nan        nan        nan         nan         nan\n",
       "genero_--                      -0.2776   2.43e+07  -1.14e-08      1.000   -4.76e+07    4.76e+07\n",
       "genero_F                       -0.3180   2.43e+07  -1.31e-08      1.000   -4.76e+07    4.76e+07\n",
       "genero_M                       -0.3764   2.46e+07  -1.53e-08      1.000   -4.83e+07    4.83e+07\n",
       "model_2020                     -0.9720   2.22e+07  -4.37e-08      1.000   -4.36e+07    4.36e+07\n",
       "ciudad_Guadalajara             -0.2154        nan        nan        nan         nan         nan\n",
       "ciudad_Merida                  -0.1164        nan        nan        nan         nan         nan\n",
       "ciudad_Monterrey               -0.3620        nan        nan        nan         nan         nan\n",
       "ciudad_Otro                    -0.1389        nan        nan        nan         nan         nan\n",
       "ciudad_Toluca                  -0.1393        nan        nan        nan         nan         nan\n",
       "===============================================================================================\n",
       "\"\"\""
      ]
     },
     "execution_count": 74,
     "metadata": {},
     "output_type": "execute_result"
    }
   ],
   "source": [
    "model_fit.summary()"
   ]
  },
  {
   "cell_type": "code",
   "execution_count": 84,
   "id": "113f0b88-ebbd-4b2c-9587-b89d6f8f0764",
   "metadata": {},
   "outputs": [
    {
     "data": {
      "text/html": [
       "<div>\n",
       "<style scoped>\n",
       "    .dataframe tbody tr th:only-of-type {\n",
       "        vertical-align: middle;\n",
       "    }\n",
       "\n",
       "    .dataframe tbody tr th {\n",
       "        vertical-align: top;\n",
       "    }\n",
       "\n",
       "    .dataframe thead th {\n",
       "        text-align: right;\n",
       "    }\n",
       "</style>\n",
       "<table border=\"1\" class=\"dataframe\">\n",
       "  <thead>\n",
       "    <tr style=\"text-align: right;\">\n",
       "      <th></th>\n",
       "      <th>0</th>\n",
       "    </tr>\n",
       "  </thead>\n",
       "  <tbody>\n",
       "    <tr>\n",
       "      <th>model_2020</th>\n",
       "      <td>0.972031</td>\n",
       "    </tr>\n",
       "    <tr>\n",
       "      <th>tipo_tc_Virtual</th>\n",
       "      <td>0.663637</td>\n",
       "    </tr>\n",
       "    <tr>\n",
       "      <th>establecimiento_Farmacia</th>\n",
       "      <td>0.556991</td>\n",
       "    </tr>\n",
       "    <tr>\n",
       "      <th>status_txn_Rechazada</th>\n",
       "      <td>0.536809</td>\n",
       "    </tr>\n",
       "    <tr>\n",
       "      <th>genero_M</th>\n",
       "      <td>0.376403</td>\n",
       "    </tr>\n",
       "    <tr>\n",
       "      <th>ciudad_Monterrey</th>\n",
       "      <td>0.362027</td>\n",
       "    </tr>\n",
       "    <tr>\n",
       "      <th>status_txn_En proceso</th>\n",
       "      <td>0.330454</td>\n",
       "    </tr>\n",
       "    <tr>\n",
       "      <th>genero_F</th>\n",
       "      <td>0.318044</td>\n",
       "    </tr>\n",
       "    <tr>\n",
       "      <th>tipo_tc_Física</th>\n",
       "      <td>0.308392</td>\n",
       "    </tr>\n",
       "    <tr>\n",
       "      <th>os_WEB</th>\n",
       "      <td>0.306646</td>\n",
       "    </tr>\n",
       "    <tr>\n",
       "      <th>genero_--</th>\n",
       "      <td>0.277584</td>\n",
       "    </tr>\n",
       "    <tr>\n",
       "      <th>os_%%</th>\n",
       "      <td>0.271793</td>\n",
       "    </tr>\n",
       "    <tr>\n",
       "      <th>os_ANDROID</th>\n",
       "      <td>0.246176</td>\n",
       "    </tr>\n",
       "    <tr>\n",
       "      <th>ciudad_Guadalajara</th>\n",
       "      <td>0.215373</td>\n",
       "    </tr>\n",
       "    <tr>\n",
       "      <th>is_prime</th>\n",
       "      <td>0.170841</td>\n",
       "    </tr>\n",
       "    <tr>\n",
       "      <th>os_.</th>\n",
       "      <td>0.147412</td>\n",
       "    </tr>\n",
       "    <tr>\n",
       "      <th>ciudad_Toluca</th>\n",
       "      <td>0.139317</td>\n",
       "    </tr>\n",
       "    <tr>\n",
       "      <th>ciudad_Otro</th>\n",
       "      <td>0.138875</td>\n",
       "    </tr>\n",
       "    <tr>\n",
       "      <th>establecimiento_Restaurante</th>\n",
       "      <td>0.130200</td>\n",
       "    </tr>\n",
       "    <tr>\n",
       "      <th>establecimiento_Abarrotes</th>\n",
       "      <td>0.124114</td>\n",
       "    </tr>\n",
       "    <tr>\n",
       "      <th>establecimiento_Otro</th>\n",
       "      <td>0.120719</td>\n",
       "    </tr>\n",
       "    <tr>\n",
       "      <th>numero_tc</th>\n",
       "      <td>0.120628</td>\n",
       "    </tr>\n",
       "    <tr>\n",
       "      <th>ciudad_Merida</th>\n",
       "      <td>0.116439</td>\n",
       "    </tr>\n",
       "    <tr>\n",
       "      <th>status_txn_Aceptada</th>\n",
       "      <td>0.104768</td>\n",
       "    </tr>\n",
       "    <tr>\n",
       "      <th>cashback</th>\n",
       "      <td>0.071044</td>\n",
       "    </tr>\n",
       "    <tr>\n",
       "      <th>establecimiento_MPago</th>\n",
       "      <td>0.063435</td>\n",
       "    </tr>\n",
       "    <tr>\n",
       "      <th>establecimiento_Super</th>\n",
       "      <td>0.023428</td>\n",
       "    </tr>\n",
       "    <tr>\n",
       "      <th>device_score</th>\n",
       "      <td>0.008903</td>\n",
       "    </tr>\n",
       "    <tr>\n",
       "      <th>dcto</th>\n",
       "      <td>0.007492</td>\n",
       "    </tr>\n",
       "    <tr>\n",
       "      <th>monto</th>\n",
       "      <td>0.001170</td>\n",
       "    </tr>\n",
       "    <tr>\n",
       "      <th>hora</th>\n",
       "      <td>0.000761</td>\n",
       "    </tr>\n",
       "    <tr>\n",
       "      <th>interes_tc</th>\n",
       "      <td>0.000503</td>\n",
       "    </tr>\n",
       "    <tr>\n",
       "      <th>linea_tc</th>\n",
       "      <td>0.000003</td>\n",
       "    </tr>\n",
       "  </tbody>\n",
       "</table>\n",
       "</div>"
      ],
      "text/plain": [
       "                                    0\n",
       "model_2020                   0.972031\n",
       "tipo_tc_Virtual              0.663637\n",
       "establecimiento_Farmacia     0.556991\n",
       "status_txn_Rechazada         0.536809\n",
       "genero_M                     0.376403\n",
       "ciudad_Monterrey             0.362027\n",
       "status_txn_En proceso        0.330454\n",
       "genero_F                     0.318044\n",
       "tipo_tc_Física               0.308392\n",
       "os_WEB                       0.306646\n",
       "genero_--                    0.277584\n",
       "os_%%                        0.271793\n",
       "os_ANDROID                   0.246176\n",
       "ciudad_Guadalajara           0.215373\n",
       "is_prime                     0.170841\n",
       "os_.                         0.147412\n",
       "ciudad_Toluca                0.139317\n",
       "ciudad_Otro                  0.138875\n",
       "establecimiento_Restaurante  0.130200\n",
       "establecimiento_Abarrotes    0.124114\n",
       "establecimiento_Otro         0.120719\n",
       "numero_tc                    0.120628\n",
       "ciudad_Merida                0.116439\n",
       "status_txn_Aceptada          0.104768\n",
       "cashback                     0.071044\n",
       "establecimiento_MPago        0.063435\n",
       "establecimiento_Super        0.023428\n",
       "device_score                 0.008903\n",
       "dcto                         0.007492\n",
       "monto                        0.001170\n",
       "hora                         0.000761\n",
       "interes_tc                   0.000503\n",
       "linea_tc                     0.000003"
      ]
     },
     "execution_count": 84,
     "metadata": {},
     "output_type": "execute_result"
    }
   ],
   "source": [
    "pd.DataFrame(np.abs(model_fit.params)).sort_values(by=0,ascending = False)"
   ]
  },
  {
   "cell_type": "markdown",
   "id": "c25c27de-a8fb-47a1-9d5f-8cdc9f1de98b",
   "metadata": {},
   "source": [
    "## Model Exportation "
   ]
  },
  {
   "cell_type": "code",
   "execution_count": null,
   "id": "5b1235ad-43aa-4cba-b939-13259261bda6",
   "metadata": {},
   "outputs": [],
   "source": [
    "df_train = df_customers.drop(columns=['ID_USER','fraude'])\n",
    "df_train = pd.get_dummies(df_train,\n",
    "                          columns = list(set(df_train.columns)-set(['monto','numero_tc','hora','linea_tc','interes_tc','dcto','cashback','device_score','is_prime'])))\n",
    "model = Logit(endog = df_customers.fraude*1, exog = df_train.astype('float'), missing = 'none')\n",
    "model_fit = model.fit()"
   ]
  },
  {
   "cell_type": "code",
   "execution_count": 12,
   "id": "4799145a-44aa-427a-a71c-6b9fe45ec528",
   "metadata": {},
   "outputs": [],
   "source": [
    "path_save = \"../models/logistic.pkl\"\n",
    "model_fit.save(path_save)"
   ]
  }
 ],
 "metadata": {
  "kernelspec": {
   "display_name": "rappi_env",
   "language": "python",
   "name": "rappi_env"
  },
  "language_info": {
   "codemirror_mode": {
    "name": "ipython",
    "version": 3
   },
   "file_extension": ".py",
   "mimetype": "text/x-python",
   "name": "python",
   "nbconvert_exporter": "python",
   "pygments_lexer": "ipython3",
   "version": "3.8.10"
  }
 },
 "nbformat": 4,
 "nbformat_minor": 5
}
